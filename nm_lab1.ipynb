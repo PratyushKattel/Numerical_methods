{
 "cells": [
  {
   "cell_type": "code",
   "execution_count": 25,
   "id": "ccd28af9-0178-42fc-b486-61f0d4919595",
   "metadata": {},
   "outputs": [],
   "source": [
    "import numpy as np\n",
    "import matplotlib.pyplot as plt\n",
    "import math"
   ]
  },
  {
   "cell_type": "code",
   "execution_count": 3,
   "id": "29972df1-9515-45b1-83ee-4767cbb793ee",
   "metadata": {},
   "outputs": [],
   "source": [
    "x=np.arange(-2,4,0.1)"
   ]
  },
  {
   "cell_type": "code",
   "execution_count": 4,
   "id": "457a9180-2c0c-42e3-9095-4672a5839357",
   "metadata": {},
   "outputs": [],
   "source": [
    "def y(x):\n",
    "    return 3*x*x-12*x+4\n",
    "    "
   ]
  },
  {
   "cell_type": "code",
   "execution_count": 5,
   "id": "5443f935-455d-43f6-a990-c8faaefdf644",
   "metadata": {},
   "outputs": [
    {
     "data": {
      "image/png": "[encoded data removed]",
      "text/plain": [
       "<Figure size 640x480 with 1 Axes>"
      ]
     },
     "metadata": {},
     "output_type": "display_data"
    }
   ],
   "source": [
    "plt.plot(x,y(x))\n",
    "plt.axhline(y=0,color='red',linestyle='--')\n",
    "plt.grid()"
   ]
  },
  {
   "cell_type": "code",
   "execution_count": 6,
   "id": "fecbcae1-f746-4698-bfe2-e38e83b63214",
   "metadata": {},
   "outputs": [],
   "source": [
    "def bisection(a,b,y,x):\n",
    "    fa=y(a)\n",
    "    fb=y(b)\n",
    "    e=float(input(\"Enter the desired error :\"))\n",
    "    n=int(np.log2((b-a)/e))\n",
    "    if fa*fb>0:\n",
    "        print(\"please choose anohter value of a and b as solution doesn't exist between a and b\")\n",
    "        return\n",
    "    for i in range(2*n):\n",
    "        c=(a+b)/2\n",
    "        fa=y(a)\n",
    "        fb=y(b)\n",
    "        fc=y(c)\n",
    "        if fa*fc<0:\n",
    "            b=c\n",
    "        elif y(c)==0:\n",
    "            print(f\"the value of obtained y is 0 and the x is at {c}\")\n",
    "            return c\n",
    "        else:\n",
    "            a=c\n",
    "\n",
    "    print(f\"THe value of obtained y is {fc } and x is at {c}\")\n",
    "    return c"
   ]
  },
  {
   "cell_type": "code",
   "execution_count": 9,
   "id": "0148e043-f8f4-4c51-9ba0-2f11e890da5c",
   "metadata": {},
   "outputs": [
    {
     "name": "stdout",
     "output_type": "stream",
     "text": [
      "THe value of obtained y is 3.4764652045993216e-08 and x is at 0.3670068345963955\n"
     ]
    },
    {
     "data": {
      "text/plain": [
       "0.3670068345963955"
      ]
     },
     "execution_count": 9,
     "metadata": {},
     "output_type": "execute_result"
    }
   ],
   "source": [
    "bisection(-1,3,y,x)\n"
   ]
  },
  {
   "cell_type": "code",
   "execution_count": 14,
   "id": "6fb97921-47b6-4e0b-9c3f-ee53f8f2d29d",
   "metadata": {},
   "outputs": [],
   "source": [
    "x=np.arange(1,100,9)\n",
    "y=x*21-x*x+30-x*x*x"
   ]
  },
  {
   "cell_type": "code",
   "execution_count": null,
   "id": "358384e7",
   "metadata": {},
   "outputs": [],
   "source": []
  },
  {
   "cell_type": "code",
   "execution_count": 15,
   "id": "c835bc75-2012-4549-9691-d11da59b7a1a",
   "metadata": {},
   "outputs": [
    {
     "data": {
      "text/plain": [
       "array([     49,    -860,   -6791,  -22118,  -51215,  -98456, -168215,\n",
       "       -264866, -392783, -556340, -759911])"
      ]
     },
     "execution_count": 15,
     "metadata": {},
     "output_type": "execute_result"
    }
   ],
   "source": [
    "y"
   ]
  },
  {
   "cell_type": "code",
   "execution_count": 16,
   "id": "23409307-a18a-40f4-8440-c36996183340",
   "metadata": {},
   "outputs": [],
   "source": [
    "table=np.zeros((11,11))"
   ]
  },
  {
   "cell_type": "code",
   "execution_count": 17,
   "id": "fe12e146-8181-45da-9765-b3d9ac279e97",
   "metadata": {},
   "outputs": [
    {
     "data": {
      "text/plain": [
       "array([[0., 0., 0., 0., 0., 0., 0., 0., 0., 0., 0.],\n",
       "       [0., 0., 0., 0., 0., 0., 0., 0., 0., 0., 0.],\n",
       "       [0., 0., 0., 0., 0., 0., 0., 0., 0., 0., 0.],\n",
       "       [0., 0., 0., 0., 0., 0., 0., 0., 0., 0., 0.],\n",
       "       [0., 0., 0., 0., 0., 0., 0., 0., 0., 0., 0.],\n",
       "       [0., 0., 0., 0., 0., 0., 0., 0., 0., 0., 0.],\n",
       "       [0., 0., 0., 0., 0., 0., 0., 0., 0., 0., 0.],\n",
       "       [0., 0., 0., 0., 0., 0., 0., 0., 0., 0., 0.],\n",
       "       [0., 0., 0., 0., 0., 0., 0., 0., 0., 0., 0.],\n",
       "       [0., 0., 0., 0., 0., 0., 0., 0., 0., 0., 0.],\n",
       "       [0., 0., 0., 0., 0., 0., 0., 0., 0., 0., 0.]])"
      ]
     },
     "execution_count": 17,
     "metadata": {},
     "output_type": "execute_result"
    }
   ],
   "source": [
    "table"
   ]
  },
  {
   "cell_type": "code",
   "execution_count": 18,
   "id": "60d454b7-c557-49a5-8e46-02f2df614f15",
   "metadata": {},
   "outputs": [],
   "source": [
    "table[:,0]=y"
   ]
  },
  {
   "cell_type": "code",
   "execution_count": 19,
   "id": "024532a8-4e40-49ca-8f66-56218201d3b7",
   "metadata": {},
   "outputs": [],
   "source": [
    "col_counter=1\n",
    "n=1\n",
    "for j in range(1,11):\n",
    "    for i in range (0,11-n):\n",
    "        table[i][j]=table[i+1][j-1]-table[i][j-1]\n",
    "    n+=1\n",
    "        "
   ]
  },
  {
   "cell_type": "code",
   "execution_count": 20,
   "id": "97f77c70-d086-44f4-a618-36d6d075d2ca",
   "metadata": {},
   "outputs": [],
   "source": [
    "import pandas as pd\n",
    "table_df=pd.DataFrame(table)\n"
   ]
  },
  {
   "cell_type": "code",
   "execution_count": 21,
   "id": "95b2f487-f902-451a-b4cd-7b3f98b78aca",
   "metadata": {},
   "outputs": [],
   "source": [
    "table_df.insert(0,'x',x)"
   ]
  },
  {
   "cell_type": "code",
   "execution_count": 22,
   "id": "fc68f0a7-4603-4357-b6f4-ed9c9c83e923",
   "metadata": {},
   "outputs": [
    {
     "data": {
      "text/html": [
       "<div>\n",
       "<style scoped>\n",
       "    .dataframe tbody tr th:only-of-type {\n",
       "        vertical-align: middle;\n",
       "    }\n",
       "\n",
       "    .dataframe tbody tr th {\n",
       "        vertical-align: top;\n",
       "    }\n",
       "\n",
       "    .dataframe thead th {\n",
       "        text-align: right;\n",
       "    }\n",
       "</style>\n",
       "<table border=\"1\" class=\"dataframe\">\n",
       "  <thead>\n",
       "    <tr style=\"text-align: right;\">\n",
       "      <th></th>\n",
       "      <th>x</th>\n",
       "      <th>0</th>\n",
       "      <th>1</th>\n",
       "      <th>2</th>\n",
       "      <th>3</th>\n",
       "      <th>4</th>\n",
       "      <th>5</th>\n",
       "      <th>6</th>\n",
       "      <th>7</th>\n",
       "      <th>8</th>\n",
       "      <th>9</th>\n",
       "      <th>10</th>\n",
       "    </tr>\n",
       "  </thead>\n",
       "  <tbody>\n",
       "    <tr>\n",
       "      <th>0</th>\n",
       "      <td>1</td>\n",
       "      <td>49.0</td>\n",
       "      <td>-909.0</td>\n",
       "      <td>-5022.0</td>\n",
       "      <td>-4374.0</td>\n",
       "      <td>0.0</td>\n",
       "      <td>0.0</td>\n",
       "      <td>0.0</td>\n",
       "      <td>0.0</td>\n",
       "      <td>0.0</td>\n",
       "      <td>0.0</td>\n",
       "      <td>0.0</td>\n",
       "    </tr>\n",
       "    <tr>\n",
       "      <th>1</th>\n",
       "      <td>10</td>\n",
       "      <td>-860.0</td>\n",
       "      <td>-5931.0</td>\n",
       "      <td>-9396.0</td>\n",
       "      <td>-4374.0</td>\n",
       "      <td>0.0</td>\n",
       "      <td>0.0</td>\n",
       "      <td>0.0</td>\n",
       "      <td>0.0</td>\n",
       "      <td>0.0</td>\n",
       "      <td>0.0</td>\n",
       "      <td>0.0</td>\n",
       "    </tr>\n",
       "    <tr>\n",
       "      <th>2</th>\n",
       "      <td>19</td>\n",
       "      <td>-6791.0</td>\n",
       "      <td>-15327.0</td>\n",
       "      <td>-13770.0</td>\n",
       "      <td>-4374.0</td>\n",
       "      <td>0.0</td>\n",
       "      <td>0.0</td>\n",
       "      <td>0.0</td>\n",
       "      <td>0.0</td>\n",
       "      <td>0.0</td>\n",
       "      <td>0.0</td>\n",
       "      <td>0.0</td>\n",
       "    </tr>\n",
       "    <tr>\n",
       "      <th>3</th>\n",
       "      <td>28</td>\n",
       "      <td>-22118.0</td>\n",
       "      <td>-29097.0</td>\n",
       "      <td>-18144.0</td>\n",
       "      <td>-4374.0</td>\n",
       "      <td>0.0</td>\n",
       "      <td>0.0</td>\n",
       "      <td>0.0</td>\n",
       "      <td>0.0</td>\n",
       "      <td>0.0</td>\n",
       "      <td>0.0</td>\n",
       "      <td>0.0</td>\n",
       "    </tr>\n",
       "    <tr>\n",
       "      <th>4</th>\n",
       "      <td>37</td>\n",
       "      <td>-51215.0</td>\n",
       "      <td>-47241.0</td>\n",
       "      <td>-22518.0</td>\n",
       "      <td>-4374.0</td>\n",
       "      <td>0.0</td>\n",
       "      <td>0.0</td>\n",
       "      <td>0.0</td>\n",
       "      <td>0.0</td>\n",
       "      <td>0.0</td>\n",
       "      <td>0.0</td>\n",
       "      <td>0.0</td>\n",
       "    </tr>\n",
       "    <tr>\n",
       "      <th>5</th>\n",
       "      <td>46</td>\n",
       "      <td>-98456.0</td>\n",
       "      <td>-69759.0</td>\n",
       "      <td>-26892.0</td>\n",
       "      <td>-4374.0</td>\n",
       "      <td>0.0</td>\n",
       "      <td>0.0</td>\n",
       "      <td>0.0</td>\n",
       "      <td>0.0</td>\n",
       "      <td>0.0</td>\n",
       "      <td>0.0</td>\n",
       "      <td>0.0</td>\n",
       "    </tr>\n",
       "    <tr>\n",
       "      <th>6</th>\n",
       "      <td>55</td>\n",
       "      <td>-168215.0</td>\n",
       "      <td>-96651.0</td>\n",
       "      <td>-31266.0</td>\n",
       "      <td>-4374.0</td>\n",
       "      <td>0.0</td>\n",
       "      <td>0.0</td>\n",
       "      <td>0.0</td>\n",
       "      <td>0.0</td>\n",
       "      <td>0.0</td>\n",
       "      <td>0.0</td>\n",
       "      <td>0.0</td>\n",
       "    </tr>\n",
       "    <tr>\n",
       "      <th>7</th>\n",
       "      <td>64</td>\n",
       "      <td>-264866.0</td>\n",
       "      <td>-127917.0</td>\n",
       "      <td>-35640.0</td>\n",
       "      <td>-4374.0</td>\n",
       "      <td>0.0</td>\n",
       "      <td>0.0</td>\n",
       "      <td>0.0</td>\n",
       "      <td>0.0</td>\n",
       "      <td>0.0</td>\n",
       "      <td>0.0</td>\n",
       "      <td>0.0</td>\n",
       "    </tr>\n",
       "    <tr>\n",
       "      <th>8</th>\n",
       "      <td>73</td>\n",
       "      <td>-392783.0</td>\n",
       "      <td>-163557.0</td>\n",
       "      <td>-40014.0</td>\n",
       "      <td>0.0</td>\n",
       "      <td>0.0</td>\n",
       "      <td>0.0</td>\n",
       "      <td>0.0</td>\n",
       "      <td>0.0</td>\n",
       "      <td>0.0</td>\n",
       "      <td>0.0</td>\n",
       "      <td>0.0</td>\n",
       "    </tr>\n",
       "    <tr>\n",
       "      <th>9</th>\n",
       "      <td>82</td>\n",
       "      <td>-556340.0</td>\n",
       "      <td>-203571.0</td>\n",
       "      <td>0.0</td>\n",
       "      <td>0.0</td>\n",
       "      <td>0.0</td>\n",
       "      <td>0.0</td>\n",
       "      <td>0.0</td>\n",
       "      <td>0.0</td>\n",
       "      <td>0.0</td>\n",
       "      <td>0.0</td>\n",
       "      <td>0.0</td>\n",
       "    </tr>\n",
       "    <tr>\n",
       "      <th>10</th>\n",
       "      <td>91</td>\n",
       "      <td>-759911.0</td>\n",
       "      <td>0.0</td>\n",
       "      <td>0.0</td>\n",
       "      <td>0.0</td>\n",
       "      <td>0.0</td>\n",
       "      <td>0.0</td>\n",
       "      <td>0.0</td>\n",
       "      <td>0.0</td>\n",
       "      <td>0.0</td>\n",
       "      <td>0.0</td>\n",
       "      <td>0.0</td>\n",
       "    </tr>\n",
       "  </tbody>\n",
       "</table>\n",
       "</div>"
      ],
      "text/plain": [
       "     x         0         1        2       3    4    5    6    7    8    9   10\n",
       "0    1      49.0    -909.0  -5022.0 -4374.0  0.0  0.0  0.0  0.0  0.0  0.0  0.0\n",
       "1   10    -860.0   -5931.0  -9396.0 -4374.0  0.0  0.0  0.0  0.0  0.0  0.0  0.0\n",
       "2   19   -6791.0  -15327.0 -13770.0 -4374.0  0.0  0.0  0.0  0.0  0.0  0.0  0.0\n",
       "3   28  -22118.0  -29097.0 -18144.0 -4374.0  0.0  0.0  0.0  0.0  0.0  0.0  0.0\n",
       "4   37  -51215.0  -47241.0 -22518.0 -4374.0  0.0  0.0  0.0  0.0  0.0  0.0  0.0\n",
       "5   46  -98456.0  -69759.0 -26892.0 -4374.0  0.0  0.0  0.0  0.0  0.0  0.0  0.0\n",
       "6   55 -168215.0  -96651.0 -31266.0 -4374.0  0.0  0.0  0.0  0.0  0.0  0.0  0.0\n",
       "7   64 -264866.0 -127917.0 -35640.0 -4374.0  0.0  0.0  0.0  0.0  0.0  0.0  0.0\n",
       "8   73 -392783.0 -163557.0 -40014.0     0.0  0.0  0.0  0.0  0.0  0.0  0.0  0.0\n",
       "9   82 -556340.0 -203571.0      0.0     0.0  0.0  0.0  0.0  0.0  0.0  0.0  0.0\n",
       "10  91 -759911.0       0.0      0.0     0.0  0.0  0.0  0.0  0.0  0.0  0.0  0.0"
      ]
     },
     "execution_count": 22,
     "metadata": {},
     "output_type": "execute_result"
    }
   ],
   "source": [
    "\n",
    "table_df"
   ]
  },
  {
   "cell_type": "code",
   "execution_count": 23,
   "id": "0f0da6d5-f437-4e49-a79b-b22effb24bb0",
   "metadata": {},
   "outputs": [],
   "source": [
    "#let us consider x to be 34\n",
    "h=9\n",
    "p=(34-28)/9"
   ]
  },
  {
   "cell_type": "code",
   "execution_count": 26,
   "id": "d0e6c947-fb95-4838-96c0-0e53d7a07e4a",
   "metadata": {},
   "outputs": [
    {
     "name": "stdout",
     "output_type": "stream",
     "text": [
      "-39716.0\n"
     ]
    }
   ],
   "source": [
    "sum=0\n",
    "j=3\n",
    "num=1\n",
    "for i in range(8):\n",
    "    y_term=table[j][i]\n",
    "    if i==0:\n",
    "        num=1\n",
    "    elif i==1:\n",
    "        num=p\n",
    "    else:\n",
    "        num*=(p-i+1)\n",
    "    sum+=(y_term)*(num/math.factorial(i))\n",
    "\n",
    "print(sum)"
   ]
  },
  {
   "cell_type": "code",
   "execution_count": null,
   "id": "330cf483-639f-4639-be2f-5af9127967d4",
   "metadata": {},
   "outputs": [],
   "source": [
    "def find_y(x_val,x=x,y=y):\n",
    "    h=x[1]-x[0] #finding the step size\n",
    "    table=np.zeros((len(x),len(y))) #defing the table\n",
    "    table[:,0]=y\n",
    "    n=1\n",
    "    for j in range(1,len(y)):\n",
    "        for i in range (0,len(x)-j):\n",
    "            table[i][j]=table[i+1][j-1]-table[i][j-1]#making the table\n",
    "        n+=1\n",
    "    x_diff=x-x_val\n",
    "    x_diff=x_diff[x_diff<=0]\n",
    "    x_0=x[np.argmax(x_diff)]\n",
    "    p=(x_val-x_0)/h\n",
    "    j=np.argmax(x_diff)\n",
    "    print(\"the value of j is \",j)\n",
    "    print(\"the value of p is \",p) \n",
    "    print(table)\n",
    "    #calculating the value of y at x_val using the table\n",
    "    sum=0\n",
    "    num=1\n",
    "    for i in range(len(x)):\n",
    "        y_term=table[j][i]\n",
    "        if i==0:\n",
    "            num=1\n",
    "        elif i==1:\n",
    "            num=p\n",
    "        else:\n",
    "            num*=(p-i+1)\n",
    "        sum+=(y_term)*(num/math.factorial(i))\n",
    "    return sum\n"
   ]
  },
  {
   "cell_type": "code",
   "execution_count": 88,
   "id": "7189835d-3c85-41b9-b3e9-7fea4721e03c",
   "metadata": {},
   "outputs": [
    {
     "name": "stdout",
     "output_type": "stream",
     "text": [
      "the value of j is  1\n",
      "the value of p is  0.5999999999999978\n",
      "[[2.7183e+00 2.8590e-01 3.0000e-02 3.0000e-03 1.3000e-03]\n",
      " [3.0042e+00 3.1590e-01 3.3000e-02 4.3000e-03 0.0000e+00]\n",
      " [3.3201e+00 3.4890e-01 3.7300e-02 0.0000e+00 0.0000e+00]\n",
      " [3.6690e+00 3.8620e-01 0.0000e+00 0.0000e+00 0.0000e+00]\n",
      " [4.0552e+00 0.0000e+00 0.0000e+00 0.0000e+00 0.0000e+00]]\n"
     ]
    },
    {
     "data": {
      "text/plain": [
       "3.1900207999999988"
      ]
     },
     "execution_count": 88,
     "metadata": {},
     "output_type": "execute_result"
    }
   ],
   "source": [
    "find_y(1.16,np.array([1.0, 1.1, 1.2, 1.3, 1.4]),np.array([2.7183, 3.0042, 3.3201, 3.6690, 4.0552]))"
   ]
  },
  {
   "cell_type": "code",
   "execution_count": null,
   "id": "28884839",
   "metadata": {},
   "outputs": [],
   "source": []
  }
 ],
 "metadata": {
  "kernelspec": {
   "display_name": "base",
   "language": "python",
   "name": "python3"
  },
  "language_info": {
   "codemirror_mode": {
    "name": "ipython",
    "version": 3
   },
   "file_extension": ".py",
   "mimetype": "text/x-python",
   "name": "python",
   "nbconvert_exporter": "python",
   "pygments_lexer": "ipython3",
   "version": "3.12.7"
  }
 },
 "nbformat": 4,
 "nbformat_minor": 5
}
